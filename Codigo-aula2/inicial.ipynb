{
 "cells": [
  {
   "cell_type": "markdown",
   "metadata": {},
   "source": [
    "# Python Insights - Analisando Dados com Python\n",
    "\n",
    "### Case - Cancelamento de Clientes\n",
    "\n",
    "Você foi contratado por uma empresa com mais de 800 mil clientes para um projeto de Dados. Recentemente a empresa percebeu que da sua base total de clientes, a maioria são clientes inativos, ou seja, que já cancelaram o serviço.\n",
    "\n",
    "Precisando melhorar seus resultados ela quer conseguir entender os principais motivos desses cancelamentos e quais as ações mais eficientes para reduzir esse número.\n",
    "\n",
    "Base de dados e arquivos: https://drive.google.com/drive/folders/1uDesZePdkhiraJmiyeZ-w5tfc8XsNYFZ?usp=drive_link"
   ]
  },
  {
   "cell_type": "code",
   "execution_count": null,
   "metadata": {},
   "outputs": [],
   "source": [
    "#Passo a passo do projeto\n",
    "#Passo 1: Importar a base de dados de clientes\n",
    "#Passo 2 : Visualizar a base de dados\n",
    "#Passo 3 : Corrigir os problemas da base de dados \n",
    "#Passo 4 : Analise de cancelamentos\n",
    "#Passo 5 : Analise de causa doscancelamentos\n",
    "\n",
    "###        DESAFIOS - instalacao dos pacotes  ###\n",
    "#trabalhar com base de dados -> pandas \n",
    "#trabalhar com graficos e dashbords -> plotly\n",
    "#codigo dentro do terminal -> pip install pandas numpy openpyxl nbformat ipykernel plotly"
   ]
  },
  {
   "cell_type": "code",
   "execution_count": null,
   "metadata": {},
   "outputs": [],
   "source": [
    "#Passo 1: Importar a base de dados de clientes\n",
    "import pandas \n",
    "tabela = pandas.read_csv(\"cancelamentos_sample.csv\") #tabela recebe biblioteca pandas e le base de dados(\"cancelamentos_sample.csv\") \n",
    "\n",
    "#Passo 2 : Visualizar a base de dados\n",
    "\n",
    "#display(tabela)\n",
    "\n",
    "#Passo 3 : Corrigir os problemas da base de dados\n",
    "#identificar colunas inuteis para analise de dados -> informações que não te ajudam, te atrapalham, tornam a base de dados mais pesada\n",
    "\n",
    "#deletando coluna -> sem deletar na base original\n",
    "tabela = tabela.drop(columns =\"CustomerID\")\n",
    "display(tabela)\n",
    "#Exemplo ->deletando uma lista de colunas \n",
    "#tabela = tabela.drop(columns =[\"CustomerID\",'Idade','Sexo'])\n",
    "\n",
    "#Tratando valores vazios -> valores vazios causam erros de preenchimento\n",
    "#1- exibir quantas informacoes vazias existem dentro da tabela\n",
    "\n",
    "\n"
   ]
  },
  {
   "cell_type": "code",
   "execution_count": null,
   "metadata": {},
   "outputs": [],
   "source": [
    "#Tratando valores vazios -> valores vazios causam erros de preenchimento\n",
    "#1- exibir quantas informacoes vazias existem dentro da tabela\n",
    "display(tabela.info()) #-> mostra dentro da base de dados quantas informações estao non-null \n",
    "\n",
    "#Excluindo linhas linhas com valores vazios \n",
    "tabela = tabela.dropna() #-> dropna = comando que identifica as linhas vazias e joga fora\n",
    "\n",
    "#Acessando a tabela com as linhas excluidas - todas elas apresentam a mesma qtd de linhas \n",
    "display(tabela.info())"
   ]
  },
  {
   "cell_type": "code",
   "execution_count": null,
   "metadata": {},
   "outputs": [],
   "source": [
    "#Passo 4 : Analise de cancelamentos\n",
    "\n",
    "#selecionando uma coluna especifica \n",
    "    #tabela['cancelou']\n",
    "#selecionando uma coluna especifica, contando os valores da coluna especifica\n",
    "display(tabela['cancelou'].value_counts())\n",
    "\n",
    "#contando o percentual(processo de normalizar-tranformar em percentual)\n",
    "display(tabela['cancelou'].value_counts(normalize=True))\n",
    "\n",
    "#Formatando os valores com funcao .map \n",
    "#display(tabela['cancelou'].value_counts(normalize=True).map(\"{:.1%}\".format))"
   ]
  },
  {
   "cell_type": "code",
   "execution_count": null,
   "metadata": {},
   "outputs": [],
   "source": [
    "###### Criando gráficos com Python ######\n",
    "#Passo 5 : Analise das principais causas doscancelamentos \n",
    "#Comparando colunas da base de dados com o cancelamento \n",
    "\n",
    "#importando plotly - biblioteca de gráficos\n",
    "import plotly.express as px #-> renoemando plotly como px\n",
    "\n",
    "#passo1 - criando gráfico de barra -> bar\n",
    "#grafico =  px.bar()\n",
    "#riando gráfico de histograma, passando tres infos(base de dados, eixo x - coluna,diferenciacao de cor com a \"coluna escolhida\" )\n",
    "\n",
    "#grafico =  px.histogram(tabela,x=\"idade\", color=\"cancelou\")\n",
    "\n",
    "#passo 2 - exibição de gráfico\n",
    "#grafico.show()\n",
    "\n",
    "\n",
    "#Mudando o valor x da coluna de forma dinamica para cada coluna da tabela \n",
    "\n",
    "#para cada coluna nas colunas da minha tabela, crie o grafico e execute o grafico \n",
    "for coluna in tabela.columns:\n",
    "    #cria o grafico\n",
    "    grafico =px.histogram(tabela, x=coluna, color=\"cancelou\")\n",
    "    #exibe o grafico \n",
    "    grafico.show()"
   ]
  },
  {
   "cell_type": "code",
   "execution_count": 29,
   "metadata": {},
   "outputs": [
    {
     "data": {
      "text/plain": [
       "cancelou\n",
       "0.0    0.816462\n",
       "1.0    0.183538\n",
       "Name: proportion, dtype: float64"
      ]
     },
     "metadata": {},
     "output_type": "display_data"
    }
   ],
   "source": [
    "#Analise das causas de cancelamento - olhando os graficos exibidos\n",
    "\n",
    "#se um cliente ligar mais de 4x para o call center, ele cancela \n",
    "    #criar processo que se o cliente ligou 3x, a gente faz de tudo para resolver o problema dele \n",
    "\n",
    "#Se um cliente atrasar o pagamento mais 20 dias, ele cancela\n",
    "    #Criar um processo para não deixar ele atrasar o pagamento mais de 20 dias \n",
    "\n",
    "#Todos os clientes do contrato mensal cancelaram\n",
    "    #oferecer desconto nos planos anuais e trimestrais\n",
    "\n",
    "\n",
    "#####filtrando tabela, passando filtro de condicao#####\n",
    "\n",
    "#tabela - igual a antiga tabela só que só pegando os valores diferente de mensal -> monthly\n",
    "\n",
    "tabela = tabela[tabela['duracao_contrato']!='Monthly'] #sem duracao do contrato mensal\n",
    "\n",
    "\n",
    "#tabela é iguala  antiga tabela, traz a tabela em que a coluna ligacao é menor = a 4\n",
    "tabela = tabela[tabela['ligacoes_callcenter']<=4] #sem ligação do call center acima de 4x\n",
    "\n",
    "\n",
    "\n",
    "#pegando os valores menor = 20\n",
    "tabela = tabela[tabela['dias_atraso']<=20] #sematraso de pagamento > 20dias \n",
    "\n",
    "\n",
    "tabela \n",
    "display(tabela['cancelou'].value_counts(normalize=True))\n"
   ]
  }
 ],
 "metadata": {
  "kernelspec": {
   "display_name": "base",
   "language": "python",
   "name": "python3"
  },
  "language_info": {
   "codemirror_mode": {
    "name": "ipython",
    "version": 3
   },
   "file_extension": ".py",
   "mimetype": "text/x-python",
   "name": "python",
   "nbconvert_exporter": "python",
   "pygments_lexer": "ipython3",
   "version": "3.12.2"
  },
  "orig_nbformat": 4
 },
 "nbformat": 4,
 "nbformat_minor": 2
}
