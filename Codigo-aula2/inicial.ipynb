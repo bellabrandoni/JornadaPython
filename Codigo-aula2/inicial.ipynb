{
 "cells": [
  {
   "cell_type": "markdown",
   "metadata": {},
   "source": [
    "# Python Insights - Analisando Dados com Python\n",
    "\n",
    "### Case - Cancelamento de Clientes\n",
    "\n",
    "Você foi contratado por uma empresa com mais de 800 mil clientes para um projeto de Dados. Recentemente a empresa percebeu que da sua base total de clientes, a maioria são clientes inativos, ou seja, que já cancelaram o serviço.\n",
    "\n",
    "Precisando melhorar seus resultados ela quer conseguir entender os principais motivos desses cancelamentos e quais as ações mais eficientes para reduzir esse número.\n",
    "\n",
    "Base de dados e arquivos: https://drive.google.com/drive/folders/1uDesZePdkhiraJmiyeZ-w5tfc8XsNYFZ?usp=drive_link"
   ]
  },
  {
   "cell_type": "code",
   "execution_count": null,
   "metadata": {},
   "outputs": [],
   "source": [
    "#Passo a passo do projeto\n",
    "#Passo 1: Importar a base de dados de clientes\n",
    "#Passo 2 : Visualizar a base de dados\n",
    "#Passo 3 : Corrigir os problemas da base de dados \n",
    "#Passo 4 : Analise de cancelamentos\n",
    "#Passo 5 : Analise de causa doscancelamentos\n",
    "\n",
    "###        DESAFIOS - instalacao dos pacotes  ###\n",
    "#trabalhar com base de dados -> pandas \n",
    "#trabalhar com graficos e dashbords -> plotly\n",
    "#codigo dentro do terminal -> pip install pandas numpy openpyxl nbformat ipykernel plotly"
   ]
  },
  {
   "cell_type": "code",
   "execution_count": null,
   "metadata": {},
   "outputs": [],
   "source": [
    "#Passo 1: Importar a base de dados de clientes\n",
    "import pandas \n",
    "tabela = pandas.read_csv(\"cancelamentos_sample.csv\") #tabela recebe biblioteca pandas e le base de dados(\"cancelamentos_sample.csv\") \n",
    "\n",
    "#Passo 2 : Visualizar a base de dados\n",
    "\n",
    "#display(tabela)\n",
    "\n",
    "#Passo 3 : Corrigir os problemas da base de dados\n",
    "#identificar colunas inuteis para analise de dados -> informações que não te ajudam, te atrapalham, tornam a base de dados mais pesada\n",
    "\n",
    "#deletando coluna -> sem deletar na base original\n",
    "tabela = tabela.drop(columns =\"CustomerID\")\n",
    "display(tabela)\n",
    "#Exemplo ->deletando uma lista de colunas \n",
    "#tabela = tabela.drop(columns =[\"CustomerID\",'Idade','Sexo'])\n",
    "\n",
    "#Tratando valores vazios -> valores vazios causam erros de preenchimento\n",
    "#1- exibir quantas informacoes vazias existem dentro da tabela\n",
    "\n",
    "\n"
   ]
  },
  {
   "cell_type": "code",
   "execution_count": null,
   "metadata": {},
   "outputs": [],
   "source": [
    "#Tratando valores vazios -> valores vazios causam erros de preenchimento\n",
    "#1- exibir quantas informacoes vazias existem dentro da tabela\n",
    "display(tabela.info()) #-> mostra dentro da base de dados quantas informações estao non-null \n",
    "\n",
    "#Excluindo linhas linhas com valores vazios \n",
    "tabela = tabela.dropna() #-> dropna = comando que identifica as linhas vazias e joga fora\n",
    "\n",
    "#Acessando a tabela com as linhas excluidas - todas elas apresentam a mesma qtd de linhas \n",
    "display(tabela.info())"
   ]
  },
  {
   "cell_type": "code",
   "execution_count": null,
   "metadata": {},
   "outputs": [],
   "source": [
    "#Passo 4 : Analise de cancelamentos\n",
    "\n",
    "#selecionando uma coluna especifica \n",
    "    #tabela['cancelou']\n",
    "#selecionando uma coluna especifica, contando os valores da coluna especifica\n",
    "display(tabela['cancelou'].value_counts())\n",
    "\n",
    "#contando o percentual(processo de normalizar-tranformar em percentual)\n",
    "display(tabela['cancelou'].value_counts(normalize=True))"
   ]
  }
 ],
 "metadata": {
  "kernelspec": {
   "display_name": "base",
   "language": "python",
   "name": "python3"
  },
  "language_info": {
   "codemirror_mode": {
    "name": "ipython",
    "version": 3
   },
   "file_extension": ".py",
   "mimetype": "text/x-python",
   "name": "python",
   "nbconvert_exporter": "python",
   "pygments_lexer": "ipython3",
   "version": "3.12.2"
  },
  "orig_nbformat": 4
 },
 "nbformat": 4,
 "nbformat_minor": 2
}
